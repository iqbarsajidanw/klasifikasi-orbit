{
  "cells": [
    {
      "cell_type": "markdown",
      "metadata": {
        "id": "ENHct0daQBwW"
      },
      "source": [
        "DATASET: https://www.kaggle.com/datasets/brsdincer/orbitclassification"
      ]
    },
    {
      "cell_type": "markdown",
      "metadata": {
        "id": "-2zyoWl-QBwc"
      },
      "source": [
        "# BUSSINESS UNDERSTANDING"
      ]
    },
    {
      "cell_type": "markdown",
      "metadata": {
        "id": "kX9_znhzLysC"
      },
      "source": [
        "Dalam fisika, suatu orbit atau garis edar adalah jalur yang dilalui oleh objek, di sekitar objek lainnya, di dalam pengaruh dari gaya gravitasi. peran orbit sangat penting karna berfungsi untuk menjaga agar jarak antar planet tetap ideal.\n",
        "\n",
        "Orbit pun memiliki beberapa macam, tidaklah hanya satu. dikarenakan banyaknya macam orbit maka dari itu dibutuhkannya model yang mempermudah dalam proses peng-klasifikasian orbit.\n",
        "\n",
        "Dalam model ini dibuat dengan metode klasifikasi dengan algoritma linear regression yang mengklasifikasi jenis orbit:\n",
        "\n",
        "Apollos (APO) melintasi orbit Bumi dan memiliki sumbu semi-mayor lebih dari 1 AU\n",
        "\n",
        "Amor (AMO) memiliki orbit yang benar-benar berada di luar orbit Bumi\n",
        "\n",
        "Atens (ATE) melintasi orbit Bumi dan memiliki sumbu semi-mayor kurang dari 1 AU\n",
        "\n",
        "Atiras (IEO) memiliki orbit yang benar-benar berada di dalam orbit Bumi"
      ]
    },
    {
      "cell_type": "code",
      "execution_count": 1,
      "metadata": {
        "id": "5QloQwf0QBwf"
      },
      "outputs": [],
      "source": [
        "import numpy as np\n",
        "import pandas as pd\n",
        "from sklearn.model_selection import train_test_split\n",
        "from sklearn.linear_model import LogisticRegression\n",
        "from sklearn.metrics import accuracy_score\n",
        "import seaborn as sns\n",
        "import matplotlib.pyplot as plt"
      ]
    },
    {
      "cell_type": "code",
      "execution_count": 2,
      "metadata": {
        "id": "iWJtCrUhQBwk"
      },
      "outputs": [],
      "source": [
        "df = pd.read_excel('orbit.xlsx')"
      ]
    },
    {
      "cell_type": "markdown",
      "metadata": {
        "id": "t7L2VgnmQBwl"
      },
      "source": [
        "# DATA UNDERSTANDING"
      ]
    },
    {
      "cell_type": "markdown",
      "metadata": {
        "id": "EElWovPPLncM"
      },
      "source": [
        "Deskripsi tabel:\n",
        "\n",
        "a_AU - Sumbu semi-mayor orbit dalam AU\n",
        "\n",
        "e - Eksentrisitas orbit\n",
        "\n",
        "i_deg - Kemiringan orbit terhadap bidang ekliptika dan ekuinoks J2000 (J2000-Ekliptika) dalam derajat\n",
        "\n",
        "w_derajat - Argumen perihelion (J2000-Ecliptic) dalam derajat\n",
        "\n",
        "Node_deg - Bujur dari node naik (J2000-Elips) dalam derajat\n",
        "\n",
        "M_deg -- Anomali rata-rata pada zaman dalam derajat\n",
        "\n",
        "q_AU -- Jarak perihelion orbit dalam AU\n",
        "\n",
        "Q_AU_1 - Jarak aphelion orbit dalam AU\n",
        "\n",
        "P_yr - Periode orbit dalam tahun Julian\n",
        "\n",
        "H_mag - Magnitudo V absolut\n",
        "\n",
        "MOID_AU -- Jarak perpotongan orbit minimum (jarak minimum antara orbit osilasi NEO dan Bumi)\n",
        "\n",
        "class -- Klasifikasi objek:\n",
        "\n",
        "AMO*\n",
        "APO*\n",
        "ATE *\n",
        "IEO*"
      ]
    },
    {
      "cell_type": "code",
      "execution_count": 3,
      "metadata": {
        "colab": {
          "base_uri": "https://localhost:8080/",
          "height": 270
        },
        "id": "_bsrEt3QQBwm",
        "outputId": "80e11c7e-ac45-48e5-8119-84025ad9c00c"
      },
      "outputs": [
        {
          "output_type": "execute_result",
          "data": {
            "text/plain": [
              "        a_AU          e      i_deg       w_deg    Node_deg       M_deg  q_AU  \\\n",
              "0  107806558  826853942  228254952   313829659   880106813  2155287722  1867   \n",
              "1  124530431  335342019  133374816  2768930236  3372079581  1041556065  8277   \n",
              "2  147026416  559921778   63529947  2858525637    35736768  1746262134   647   \n",
              "3  177602471  650140732  398325384  2677919932  3569033434  1731885562  6214   \n",
              "4  187412276  764601569   13263995   433880477  3496949443  2351586224  4412   \n",
              "\n",
              "   Q_AU_1  P_yr  H_mag  MOID_AU class  \n",
              "0     197   112    169    34507  APO*  \n",
              "1     166   139    156    30669  APO*  \n",
              "2     229   178   1625    25795  APO*  \n",
              "3     293   237    152     3551  APO*  \n",
              "4     331   257    188    11645  APO*  "
            ],
            "text/html": [
              "\n",
              "  <div id=\"df-45de6a5a-7120-4f17-8e29-19eb4de1c367\">\n",
              "    <div class=\"colab-df-container\">\n",
              "      <div>\n",
              "<style scoped>\n",
              "    .dataframe tbody tr th:only-of-type {\n",
              "        vertical-align: middle;\n",
              "    }\n",
              "\n",
              "    .dataframe tbody tr th {\n",
              "        vertical-align: top;\n",
              "    }\n",
              "\n",
              "    .dataframe thead th {\n",
              "        text-align: right;\n",
              "    }\n",
              "</style>\n",
              "<table border=\"1\" class=\"dataframe\">\n",
              "  <thead>\n",
              "    <tr style=\"text-align: right;\">\n",
              "      <th></th>\n",
              "      <th>a_AU</th>\n",
              "      <th>e</th>\n",
              "      <th>i_deg</th>\n",
              "      <th>w_deg</th>\n",
              "      <th>Node_deg</th>\n",
              "      <th>M_deg</th>\n",
              "      <th>q_AU</th>\n",
              "      <th>Q_AU_1</th>\n",
              "      <th>P_yr</th>\n",
              "      <th>H_mag</th>\n",
              "      <th>MOID_AU</th>\n",
              "      <th>class</th>\n",
              "    </tr>\n",
              "  </thead>\n",
              "  <tbody>\n",
              "    <tr>\n",
              "      <th>0</th>\n",
              "      <td>107806558</td>\n",
              "      <td>826853942</td>\n",
              "      <td>228254952</td>\n",
              "      <td>313829659</td>\n",
              "      <td>880106813</td>\n",
              "      <td>2155287722</td>\n",
              "      <td>1867</td>\n",
              "      <td>197</td>\n",
              "      <td>112</td>\n",
              "      <td>169</td>\n",
              "      <td>34507</td>\n",
              "      <td>APO*</td>\n",
              "    </tr>\n",
              "    <tr>\n",
              "      <th>1</th>\n",
              "      <td>124530431</td>\n",
              "      <td>335342019</td>\n",
              "      <td>133374816</td>\n",
              "      <td>2768930236</td>\n",
              "      <td>3372079581</td>\n",
              "      <td>1041556065</td>\n",
              "      <td>8277</td>\n",
              "      <td>166</td>\n",
              "      <td>139</td>\n",
              "      <td>156</td>\n",
              "      <td>30669</td>\n",
              "      <td>APO*</td>\n",
              "    </tr>\n",
              "    <tr>\n",
              "      <th>2</th>\n",
              "      <td>147026416</td>\n",
              "      <td>559921778</td>\n",
              "      <td>63529947</td>\n",
              "      <td>2858525637</td>\n",
              "      <td>35736768</td>\n",
              "      <td>1746262134</td>\n",
              "      <td>647</td>\n",
              "      <td>229</td>\n",
              "      <td>178</td>\n",
              "      <td>1625</td>\n",
              "      <td>25795</td>\n",
              "      <td>APO*</td>\n",
              "    </tr>\n",
              "    <tr>\n",
              "      <th>3</th>\n",
              "      <td>177602471</td>\n",
              "      <td>650140732</td>\n",
              "      <td>398325384</td>\n",
              "      <td>2677919932</td>\n",
              "      <td>3569033434</td>\n",
              "      <td>1731885562</td>\n",
              "      <td>6214</td>\n",
              "      <td>293</td>\n",
              "      <td>237</td>\n",
              "      <td>152</td>\n",
              "      <td>3551</td>\n",
              "      <td>APO*</td>\n",
              "    </tr>\n",
              "    <tr>\n",
              "      <th>4</th>\n",
              "      <td>187412276</td>\n",
              "      <td>764601569</td>\n",
              "      <td>13263995</td>\n",
              "      <td>433880477</td>\n",
              "      <td>3496949443</td>\n",
              "      <td>2351586224</td>\n",
              "      <td>4412</td>\n",
              "      <td>331</td>\n",
              "      <td>257</td>\n",
              "      <td>188</td>\n",
              "      <td>11645</td>\n",
              "      <td>APO*</td>\n",
              "    </tr>\n",
              "  </tbody>\n",
              "</table>\n",
              "</div>\n",
              "      <button class=\"colab-df-convert\" onclick=\"convertToInteractive('df-45de6a5a-7120-4f17-8e29-19eb4de1c367')\"\n",
              "              title=\"Convert this dataframe to an interactive table.\"\n",
              "              style=\"display:none;\">\n",
              "        \n",
              "  <svg xmlns=\"http://www.w3.org/2000/svg\" height=\"24px\"viewBox=\"0 0 24 24\"\n",
              "       width=\"24px\">\n",
              "    <path d=\"M0 0h24v24H0V0z\" fill=\"none\"/>\n",
              "    <path d=\"M18.56 5.44l.94 2.06.94-2.06 2.06-.94-2.06-.94-.94-2.06-.94 2.06-2.06.94zm-11 1L8.5 8.5l.94-2.06 2.06-.94-2.06-.94L8.5 2.5l-.94 2.06-2.06.94zm10 10l.94 2.06.94-2.06 2.06-.94-2.06-.94-.94-2.06-.94 2.06-2.06.94z\"/><path d=\"M17.41 7.96l-1.37-1.37c-.4-.4-.92-.59-1.43-.59-.52 0-1.04.2-1.43.59L10.3 9.45l-7.72 7.72c-.78.78-.78 2.05 0 2.83L4 21.41c.39.39.9.59 1.41.59.51 0 1.02-.2 1.41-.59l7.78-7.78 2.81-2.81c.8-.78.8-2.07 0-2.86zM5.41 20L4 18.59l7.72-7.72 1.47 1.35L5.41 20z\"/>\n",
              "  </svg>\n",
              "      </button>\n",
              "      \n",
              "  <style>\n",
              "    .colab-df-container {\n",
              "      display:flex;\n",
              "      flex-wrap:wrap;\n",
              "      gap: 12px;\n",
              "    }\n",
              "\n",
              "    .colab-df-convert {\n",
              "      background-color: #E8F0FE;\n",
              "      border: none;\n",
              "      border-radius: 50%;\n",
              "      cursor: pointer;\n",
              "      display: none;\n",
              "      fill: #1967D2;\n",
              "      height: 32px;\n",
              "      padding: 0 0 0 0;\n",
              "      width: 32px;\n",
              "    }\n",
              "\n",
              "    .colab-df-convert:hover {\n",
              "      background-color: #E2EBFA;\n",
              "      box-shadow: 0px 1px 2px rgba(60, 64, 67, 0.3), 0px 1px 3px 1px rgba(60, 64, 67, 0.15);\n",
              "      fill: #174EA6;\n",
              "    }\n",
              "\n",
              "    [theme=dark] .colab-df-convert {\n",
              "      background-color: #3B4455;\n",
              "      fill: #D2E3FC;\n",
              "    }\n",
              "\n",
              "    [theme=dark] .colab-df-convert:hover {\n",
              "      background-color: #434B5C;\n",
              "      box-shadow: 0px 1px 3px 1px rgba(0, 0, 0, 0.15);\n",
              "      filter: drop-shadow(0px 1px 2px rgba(0, 0, 0, 0.3));\n",
              "      fill: #FFFFFF;\n",
              "    }\n",
              "  </style>\n",
              "\n",
              "      <script>\n",
              "        const buttonEl =\n",
              "          document.querySelector('#df-45de6a5a-7120-4f17-8e29-19eb4de1c367 button.colab-df-convert');\n",
              "        buttonEl.style.display =\n",
              "          google.colab.kernel.accessAllowed ? 'block' : 'none';\n",
              "\n",
              "        async function convertToInteractive(key) {\n",
              "          const element = document.querySelector('#df-45de6a5a-7120-4f17-8e29-19eb4de1c367');\n",
              "          const dataTable =\n",
              "            await google.colab.kernel.invokeFunction('convertToInteractive',\n",
              "                                                     [key], {});\n",
              "          if (!dataTable) return;\n",
              "\n",
              "          const docLinkHtml = 'Like what you see? Visit the ' +\n",
              "            '<a target=\"_blank\" href=https://colab.research.google.com/notebooks/data_table.ipynb>data table notebook</a>'\n",
              "            + ' to learn more about interactive tables.';\n",
              "          element.innerHTML = '';\n",
              "          dataTable['output_type'] = 'display_data';\n",
              "          await google.colab.output.renderOutput(dataTable, element);\n",
              "          const docLink = document.createElement('div');\n",
              "          docLink.innerHTML = docLinkHtml;\n",
              "          element.appendChild(docLink);\n",
              "        }\n",
              "      </script>\n",
              "    </div>\n",
              "  </div>\n",
              "  "
            ]
          },
          "metadata": {},
          "execution_count": 3
        }
      ],
      "source": [
        "df.head()"
      ]
    },
    {
      "cell_type": "code",
      "execution_count": 4,
      "metadata": {
        "colab": {
          "base_uri": "https://localhost:8080/"
        },
        "id": "aZjv1_HUQBwp",
        "outputId": "0f7904d3-cd78-4d1a-b8c7-4027cbc1c85d"
      },
      "outputs": [
        {
          "output_type": "execute_result",
          "data": {
            "text/plain": [
              "Index(['a_AU', 'e', 'i_deg', 'w_deg', 'Node_deg', 'M_deg', 'q_AU', 'Q_AU_1',\n",
              "       'P_yr', 'H_mag', 'MOID_AU', 'class'],\n",
              "      dtype='object')"
            ]
          },
          "metadata": {},
          "execution_count": 4
        }
      ],
      "source": [
        "df.columns"
      ]
    },
    {
      "cell_type": "code",
      "execution_count": 5,
      "metadata": {
        "colab": {
          "base_uri": "https://localhost:8080/"
        },
        "id": "yoWjQIzIiz7K",
        "outputId": "c94fff0d-53c3-41f2-87f0-2d126c2c65f9"
      },
      "outputs": [
        {
          "output_type": "execute_result",
          "data": {
            "text/plain": [
              "(1727, 12)"
            ]
          },
          "metadata": {},
          "execution_count": 5
        }
      ],
      "source": [
        "df.shape"
      ]
    },
    {
      "cell_type": "code",
      "execution_count": 6,
      "metadata": {
        "colab": {
          "base_uri": "https://localhost:8080/"
        },
        "id": "M6W0564chTVd",
        "outputId": "7f93917e-7096-40ad-8201-e1ff6e19c138"
      },
      "outputs": [
        {
          "output_type": "stream",
          "name": "stdout",
          "text": [
            "<class 'pandas.core.frame.DataFrame'>\n",
            "RangeIndex: 1727 entries, 0 to 1726\n",
            "Data columns (total 12 columns):\n",
            " #   Column    Non-Null Count  Dtype \n",
            "---  ------    --------------  ----- \n",
            " 0   a_AU      1727 non-null   int64 \n",
            " 1   e         1727 non-null   int64 \n",
            " 2   i_deg     1727 non-null   int64 \n",
            " 3   w_deg     1727 non-null   int64 \n",
            " 4   Node_deg  1727 non-null   int64 \n",
            " 5   M_deg     1727 non-null   int64 \n",
            " 6   q_AU      1727 non-null   int64 \n",
            " 7   Q_AU_1    1727 non-null   int64 \n",
            " 8   P_yr      1727 non-null   int64 \n",
            " 9   H_mag     1727 non-null   int64 \n",
            " 10  MOID_AU   1727 non-null   int64 \n",
            " 11  class     1727 non-null   object\n",
            "dtypes: int64(11), object(1)\n",
            "memory usage: 162.0+ KB\n"
          ]
        }
      ],
      "source": [
        "df.info()"
      ]
    },
    {
      "cell_type": "code",
      "execution_count": 7,
      "metadata": {
        "colab": {
          "base_uri": "https://localhost:8080/"
        },
        "id": "cuXCVmtaiz7a",
        "outputId": "f42ea044-2089-432c-b66b-8719a1c7db37"
      },
      "outputs": [
        {
          "output_type": "execute_result",
          "data": {
            "text/plain": [
              "a_AU        0\n",
              "e           0\n",
              "i_deg       0\n",
              "w_deg       0\n",
              "Node_deg    0\n",
              "M_deg       0\n",
              "q_AU        0\n",
              "Q_AU_1      0\n",
              "P_yr        0\n",
              "H_mag       0\n",
              "MOID_AU     0\n",
              "class       0\n",
              "dtype: int64"
            ]
          },
          "metadata": {},
          "execution_count": 7
        }
      ],
      "source": [
        "df.isnull().sum()"
      ]
    },
    {
      "cell_type": "code",
      "execution_count": 8,
      "metadata": {
        "colab": {
          "base_uri": "https://localhost:8080/"
        },
        "id": "RWarlWnTiz7c",
        "outputId": "921a33de-bb55-4d7a-80ee-01020edfe5c5"
      },
      "outputs": [
        {
          "output_type": "execute_result",
          "data": {
            "text/plain": [
              "0"
            ]
          },
          "metadata": {},
          "execution_count": 8
        }
      ],
      "source": [
        "df.duplicated().sum()"
      ]
    },
    {
      "cell_type": "code",
      "execution_count": 9,
      "metadata": {
        "colab": {
          "base_uri": "https://localhost:8080/"
        },
        "id": "7sbq0g1Miz7Z",
        "outputId": "f5eb50b1-8a74-4194-9e93-0f29e8a6f79d"
      },
      "outputs": [
        {
          "output_type": "execute_result",
          "data": {
            "text/plain": [
              "APO*    1477\n",
              "ATE*     149\n",
              "AMO*      96\n",
              "IEO*       5\n",
              "Name: class, dtype: int64"
            ]
          },
          "metadata": {},
          "execution_count": 9
        }
      ],
      "source": [
        "df['class'].value_counts()"
      ]
    },
    {
      "cell_type": "markdown",
      "metadata": {
        "id": "SR6YqeRsQBwo"
      },
      "source": [
        "# DATA PREPROSESSING"
      ]
    },
    {
      "cell_type": "code",
      "execution_count": 10,
      "metadata": {
        "colab": {
          "base_uri": "https://localhost:8080/",
          "height": 483
        },
        "id": "uOz6qHS43peZ",
        "outputId": "31376383-9b2a-4c94-a8db-3f3f7c321060"
      },
      "outputs": [
        {
          "output_type": "execute_result",
          "data": {
            "text/plain": [
              "<Axes: xlabel='class', ylabel='Count'>"
            ]
          },
          "metadata": {},
          "execution_count": 10
        },
        {
          "output_type": "display_data",
          "data": {
            "text/plain": [
              "<Figure size 500x500 with 1 Axes>"
            ],
            "image/png": "[encoded data removed]"
          },
          "metadata": {}
        }
      ],
      "source": [
        "plt.figure(figsize=(5,5))\n",
        "sns.set(font_scale=0.8)\n",
        "sns.histplot(data=df, x='class')"
      ]
    },
    {
      "cell_type": "code",
      "execution_count": 11,
      "metadata": {
        "colab": {
          "base_uri": "https://localhost:8080/"
        },
        "id": "QjES686JLncQ",
        "outputId": "b82165cd-7860-4e10-8a98-f23c914b28ba"
      },
      "outputs": [
        {
          "output_type": "execute_result",
          "data": {
            "text/plain": [
              "array(['APO*', 'ATE*', 'AMO*', 'IEO*'], dtype=object)"
            ]
          },
          "metadata": {},
          "execution_count": 11
        }
      ],
      "source": [
        "df['class'].unique()"
      ]
    },
    {
      "cell_type": "code",
      "execution_count": 12,
      "metadata": {
        "id": "yK7zvSm2LncR"
      },
      "outputs": [],
      "source": [
        "df = df.replace(['APO*', 'ATE*', 'AMO*', 'IEO*'],[0,1,2,3])"
      ]
    },
    {
      "cell_type": "code",
      "execution_count": 13,
      "metadata": {
        "colab": {
          "base_uri": "https://localhost:8080/",
          "height": 270
        },
        "id": "w13P4SPmLncR",
        "outputId": "8e695d93-6d94-437f-d16e-3e3b9dd80658"
      },
      "outputs": [
        {
          "output_type": "execute_result",
          "data": {
            "text/plain": [
              "        a_AU          e      i_deg       w_deg    Node_deg       M_deg  q_AU  \\\n",
              "0  107806558  826853942  228254952   313829659   880106813  2155287722  1867   \n",
              "1  124530431  335342019  133374816  2768930236  3372079581  1041556065  8277   \n",
              "2  147026416  559921778   63529947  2858525637    35736768  1746262134   647   \n",
              "3  177602471  650140732  398325384  2677919932  3569033434  1731885562  6214   \n",
              "4  187412276  764601569   13263995   433880477  3496949443  2351586224  4412   \n",
              "\n",
              "   Q_AU_1  P_yr  H_mag  MOID_AU  class  \n",
              "0     197   112    169    34507      0  \n",
              "1     166   139    156    30669      0  \n",
              "2     229   178   1625    25795      0  \n",
              "3     293   237    152     3551      0  \n",
              "4     331   257    188    11645      0  "
            ],
            "text/html": [
              "\n",
              "  <div id=\"df-ff722e49-aea3-4dfc-af1c-9c36c8a072ae\">\n",
              "    <div class=\"colab-df-container\">\n",
              "      <div>\n",
              "<style scoped>\n",
              "    .dataframe tbody tr th:only-of-type {\n",
              "        vertical-align: middle;\n",
              "    }\n",
              "\n",
              "    .dataframe tbody tr th {\n",
              "        vertical-align: top;\n",
              "    }\n",
              "\n",
              "    .dataframe thead th {\n",
              "        text-align: right;\n",
              "    }\n",
              "</style>\n",
              "<table border=\"1\" class=\"dataframe\">\n",
              "  <thead>\n",
              "    <tr style=\"text-align: right;\">\n",
              "      <th></th>\n",
              "      <th>a_AU</th>\n",
              "      <th>e</th>\n",
              "      <th>i_deg</th>\n",
              "      <th>w_deg</th>\n",
              "      <th>Node_deg</th>\n",
              "      <th>M_deg</th>\n",
              "      <th>q_AU</th>\n",
              "      <th>Q_AU_1</th>\n",
              "      <th>P_yr</th>\n",
              "      <th>H_mag</th>\n",
              "      <th>MOID_AU</th>\n",
              "      <th>class</th>\n",
              "    </tr>\n",
              "  </thead>\n",
              "  <tbody>\n",
              "    <tr>\n",
              "      <th>0</th>\n",
              "      <td>107806558</td>\n",
              "      <td>826853942</td>\n",
              "      <td>228254952</td>\n",
              "      <td>313829659</td>\n",
              "      <td>880106813</td>\n",
              "      <td>2155287722</td>\n",
              "      <td>1867</td>\n",
              "      <td>197</td>\n",
              "      <td>112</td>\n",
              "      <td>169</td>\n",
              "      <td>34507</td>\n",
              "      <td>0</td>\n",
              "    </tr>\n",
              "    <tr>\n",
              "      <th>1</th>\n",
              "      <td>124530431</td>\n",
              "      <td>335342019</td>\n",
              "      <td>133374816</td>\n",
              "      <td>2768930236</td>\n",
              "      <td>3372079581</td>\n",
              "      <td>1041556065</td>\n",
              "      <td>8277</td>\n",
              "      <td>166</td>\n",
              "      <td>139</td>\n",
              "      <td>156</td>\n",
              "      <td>30669</td>\n",
              "      <td>0</td>\n",
              "    </tr>\n",
              "    <tr>\n",
              "      <th>2</th>\n",
              "      <td>147026416</td>\n",
              "      <td>559921778</td>\n",
              "      <td>63529947</td>\n",
              "      <td>2858525637</td>\n",
              "      <td>35736768</td>\n",
              "      <td>1746262134</td>\n",
              "      <td>647</td>\n",
              "      <td>229</td>\n",
              "      <td>178</td>\n",
              "      <td>1625</td>\n",
              "      <td>25795</td>\n",
              "      <td>0</td>\n",
              "    </tr>\n",
              "    <tr>\n",
              "      <th>3</th>\n",
              "      <td>177602471</td>\n",
              "      <td>650140732</td>\n",
              "      <td>398325384</td>\n",
              "      <td>2677919932</td>\n",
              "      <td>3569033434</td>\n",
              "      <td>1731885562</td>\n",
              "      <td>6214</td>\n",
              "      <td>293</td>\n",
              "      <td>237</td>\n",
              "      <td>152</td>\n",
              "      <td>3551</td>\n",
              "      <td>0</td>\n",
              "    </tr>\n",
              "    <tr>\n",
              "      <th>4</th>\n",
              "      <td>187412276</td>\n",
              "      <td>764601569</td>\n",
              "      <td>13263995</td>\n",
              "      <td>433880477</td>\n",
              "      <td>3496949443</td>\n",
              "      <td>2351586224</td>\n",
              "      <td>4412</td>\n",
              "      <td>331</td>\n",
              "      <td>257</td>\n",
              "      <td>188</td>\n",
              "      <td>11645</td>\n",
              "      <td>0</td>\n",
              "    </tr>\n",
              "  </tbody>\n",
              "</table>\n",
              "</div>\n",
              "      <button class=\"colab-df-convert\" onclick=\"convertToInteractive('df-ff722e49-aea3-4dfc-af1c-9c36c8a072ae')\"\n",
              "              title=\"Convert this dataframe to an interactive table.\"\n",
              "              style=\"display:none;\">\n",
              "        \n",
              "  <svg xmlns=\"http://www.w3.org/2000/svg\" height=\"24px\"viewBox=\"0 0 24 24\"\n",
              "       width=\"24px\">\n",
              "    <path d=\"M0 0h24v24H0V0z\" fill=\"none\"/>\n",
              "    <path d=\"M18.56 5.44l.94 2.06.94-2.06 2.06-.94-2.06-.94-.94-2.06-.94 2.06-2.06.94zm-11 1L8.5 8.5l.94-2.06 2.06-.94-2.06-.94L8.5 2.5l-.94 2.06-2.06.94zm10 10l.94 2.06.94-2.06 2.06-.94-2.06-.94-.94-2.06-.94 2.06-2.06.94z\"/><path d=\"M17.41 7.96l-1.37-1.37c-.4-.4-.92-.59-1.43-.59-.52 0-1.04.2-1.43.59L10.3 9.45l-7.72 7.72c-.78.78-.78 2.05 0 2.83L4 21.41c.39.39.9.59 1.41.59.51 0 1.02-.2 1.41-.59l7.78-7.78 2.81-2.81c.8-.78.8-2.07 0-2.86zM5.41 20L4 18.59l7.72-7.72 1.47 1.35L5.41 20z\"/>\n",
              "  </svg>\n",
              "      </button>\n",
              "      \n",
              "  <style>\n",
              "    .colab-df-container {\n",
              "      display:flex;\n",
              "      flex-wrap:wrap;\n",
              "      gap: 12px;\n",
              "    }\n",
              "\n",
              "    .colab-df-convert {\n",
              "      background-color: #E8F0FE;\n",
              "      border: none;\n",
              "      border-radius: 50%;\n",
              "      cursor: pointer;\n",
              "      display: none;\n",
              "      fill: #1967D2;\n",
              "      height: 32px;\n",
              "      padding: 0 0 0 0;\n",
              "      width: 32px;\n",
              "    }\n",
              "\n",
              "    .colab-df-convert:hover {\n",
              "      background-color: #E2EBFA;\n",
              "      box-shadow: 0px 1px 2px rgba(60, 64, 67, 0.3), 0px 1px 3px 1px rgba(60, 64, 67, 0.15);\n",
              "      fill: #174EA6;\n",
              "    }\n",
              "\n",
              "    [theme=dark] .colab-df-convert {\n",
              "      background-color: #3B4455;\n",
              "      fill: #D2E3FC;\n",
              "    }\n",
              "\n",
              "    [theme=dark] .colab-df-convert:hover {\n",
              "      background-color: #434B5C;\n",
              "      box-shadow: 0px 1px 3px 1px rgba(0, 0, 0, 0.15);\n",
              "      filter: drop-shadow(0px 1px 2px rgba(0, 0, 0, 0.3));\n",
              "      fill: #FFFFFF;\n",
              "    }\n",
              "  </style>\n",
              "\n",
              "      <script>\n",
              "        const buttonEl =\n",
              "          document.querySelector('#df-ff722e49-aea3-4dfc-af1c-9c36c8a072ae button.colab-df-convert');\n",
              "        buttonEl.style.display =\n",
              "          google.colab.kernel.accessAllowed ? 'block' : 'none';\n",
              "\n",
              "        async function convertToInteractive(key) {\n",
              "          const element = document.querySelector('#df-ff722e49-aea3-4dfc-af1c-9c36c8a072ae');\n",
              "          const dataTable =\n",
              "            await google.colab.kernel.invokeFunction('convertToInteractive',\n",
              "                                                     [key], {});\n",
              "          if (!dataTable) return;\n",
              "\n",
              "          const docLinkHtml = 'Like what you see? Visit the ' +\n",
              "            '<a target=\"_blank\" href=https://colab.research.google.com/notebooks/data_table.ipynb>data table notebook</a>'\n",
              "            + ' to learn more about interactive tables.';\n",
              "          element.innerHTML = '';\n",
              "          dataTable['output_type'] = 'display_data';\n",
              "          await google.colab.output.renderOutput(dataTable, element);\n",
              "          const docLink = document.createElement('div');\n",
              "          docLink.innerHTML = docLinkHtml;\n",
              "          element.appendChild(docLink);\n",
              "        }\n",
              "      </script>\n",
              "    </div>\n",
              "  </div>\n",
              "  "
            ]
          },
          "metadata": {},
          "execution_count": 13
        }
      ],
      "source": [
        "df.head()"
      ]
    },
    {
      "cell_type": "markdown",
      "metadata": {
        "id": "f0kiZXNpQBws"
      },
      "source": [
        "# MODELLING"
      ]
    },
    {
      "cell_type": "code",
      "execution_count": 14,
      "metadata": {
        "id": "9p2SZ145QBwt"
      },
      "outputs": [],
      "source": [
        "X = df.drop(columns='class', axis=1)\n",
        "Y = df['class']"
      ]
    },
    {
      "cell_type": "code",
      "execution_count": 15,
      "metadata": {
        "colab": {
          "base_uri": "https://localhost:8080/"
        },
        "id": "t_-kDM_xQBwt",
        "outputId": "ddbd134f-be44-4d0e-bf7d-40028005ff8c"
      },
      "outputs": [
        {
          "output_type": "stream",
          "name": "stdout",
          "text": [
            "           a_AU          e      i_deg       w_deg    Node_deg       M_deg  \\\n",
            "0     107806558  826853942  228254952   313829659   880106813  2155287722   \n",
            "1     124530431  335342019  133374816  2768930236  3372079581  1041556065   \n",
            "2     147026416  559921778   63529947  2858525637    35736768  1746262134   \n",
            "3     177602471  650140732  398325384  2677919932  3569033434  1731885562   \n",
            "4     187412276  764601569   13263995   433880477  3496949443  2351586224   \n",
            "...         ...        ...        ...         ...         ...         ...   \n",
            "1722  166282643  382486934    8746249  3049805063  2211566554  3121115718   \n",
            "1723  270663044  764458947  114337423   282994922  2675011452  3442530886   \n",
            "1724  203786953  667524986   89066493  2797219348   646902701    19063147   \n",
            "1725  209519302  654661914    4014503  1454296528   251645232  3407661049   \n",
            "1726  280429433  667236355   47248827  2341259803  1835746748  3495301596   \n",
            "\n",
            "       q_AU  Q_AU_1  P_yr  H_mag  MOID_AU  \n",
            "0      1867     197   112    169    34507  \n",
            "1      8277     166   139    156    30669  \n",
            "2       647     229   178   1625    25795  \n",
            "3      6214     293   237    152     3551  \n",
            "4      4412     331   257    188    11645  \n",
            "...     ...     ...   ...    ...      ...  \n",
            "1722  10268      23   214   2108    36365  \n",
            "1723   6375     478   445   2019     1663  \n",
            "1724   6775      34   291   2186     7084  \n",
            "1725   7235     347   303   2191    44428  \n",
            "1726   9332     468    47    204    28788  \n",
            "\n",
            "[1727 rows x 11 columns]\n"
          ]
        }
      ],
      "source": [
        "print(X)"
      ]
    },
    {
      "cell_type": "code",
      "execution_count": 16,
      "metadata": {
        "colab": {
          "base_uri": "https://localhost:8080/"
        },
        "id": "RmN8P41wQBwu",
        "outputId": "d340e6a8-5198-4e05-8540-031108fbbc88"
      },
      "outputs": [
        {
          "output_type": "stream",
          "name": "stdout",
          "text": [
            "0       0\n",
            "1       0\n",
            "2       0\n",
            "3       0\n",
            "4       0\n",
            "       ..\n",
            "1722    2\n",
            "1723    0\n",
            "1724    0\n",
            "1725    0\n",
            "1726    0\n",
            "Name: class, Length: 1727, dtype: int64\n"
          ]
        }
      ],
      "source": [
        "print(Y)"
      ]
    },
    {
      "cell_type": "code",
      "execution_count": 17,
      "metadata": {
        "id": "bFFP8JjNQBwv"
      },
      "outputs": [],
      "source": [
        "X_train, X_test, Y_train, Y_test = train_test_split(X,Y, test_size=0.4, stratify=Y, random_state=2)"
      ]
    },
    {
      "cell_type": "code",
      "execution_count": 18,
      "metadata": {
        "colab": {
          "base_uri": "https://localhost:8080/"
        },
        "id": "8-R-xRl-QBwv",
        "outputId": "b1bcd8a7-1267-4ad6-8e6a-6387e3111243"
      },
      "outputs": [
        {
          "output_type": "stream",
          "name": "stdout",
          "text": [
            "(1727, 11) (1036, 11) (691, 11)\n"
          ]
        }
      ],
      "source": [
        "print(X.shape, X_train.shape, X_test.shape)"
      ]
    },
    {
      "cell_type": "code",
      "execution_count": 19,
      "metadata": {
        "id": "cLekJDkjQBww"
      },
      "outputs": [],
      "source": [
        "model = LogisticRegression()"
      ]
    },
    {
      "cell_type": "code",
      "execution_count": 20,
      "metadata": {
        "colab": {
          "base_uri": "https://localhost:8080/",
          "height": 233
        },
        "id": "nlxQFdR6QBww",
        "outputId": "c458a709-fdf2-4b29-8c9f-ea9b38136387"
      },
      "outputs": [
        {
          "output_type": "stream",
          "name": "stderr",
          "text": [
            "/usr/local/lib/python3.10/dist-packages/sklearn/linear_model/_logistic.py:458: ConvergenceWarning: lbfgs failed to converge (status=1):\n",
            "STOP: TOTAL NO. of ITERATIONS REACHED LIMIT.\n",
            "\n",
            "Increase the number of iterations (max_iter) or scale the data as shown in:\n",
            "    https://scikit-learn.org/stable/modules/preprocessing.html\n",
            "Please also refer to the documentation for alternative solver options:\n",
            "    https://scikit-learn.org/stable/modules/linear_model.html#logistic-regression\n",
            "  n_iter_i = _check_optimize_result(\n"
          ]
        },
        {
          "output_type": "execute_result",
          "data": {
            "text/plain": [
              "LogisticRegression()"
            ],
            "text/html": [
              "<style>#sk-container-id-1 {color: black;background-color: white;}#sk-container-id-1 pre{padding: 0;}#sk-container-id-1 div.sk-toggleable {background-color: white;}#sk-container-id-1 label.sk-toggleable__label {cursor: pointer;display: block;width: 100%;margin-bottom: 0;padding: 0.3em;box-sizing: border-box;text-align: center;}#sk-container-id-1 label.sk-toggleable__label-arrow:before {content: \"▸\";float: left;margin-right: 0.25em;color: #696969;}#sk-container-id-1 label.sk-toggleable__label-arrow:hover:before {color: black;}#sk-container-id-1 div.sk-estimator:hover label.sk-toggleable__label-arrow:before {color: black;}#sk-container-id-1 div.sk-toggleable__content {max-height: 0;max-width: 0;overflow: hidden;text-align: left;background-color: #f0f8ff;}#sk-container-id-1 div.sk-toggleable__content pre {margin: 0.2em;color: black;border-radius: 0.25em;background-color: #f0f8ff;}#sk-container-id-1 input.sk-toggleable__control:checked~div.sk-toggleable__content {max-height: 200px;max-width: 100%;overflow: auto;}#sk-container-id-1 input.sk-toggleable__control:checked~label.sk-toggleable__label-arrow:before {content: \"▾\";}#sk-container-id-1 div.sk-estimator input.sk-toggleable__control:checked~label.sk-toggleable__label {background-color: #d4ebff;}#sk-container-id-1 div.sk-label input.sk-toggleable__control:checked~label.sk-toggleable__label {background-color: #d4ebff;}#sk-container-id-1 input.sk-hidden--visually {border: 0;clip: rect(1px 1px 1px 1px);clip: rect(1px, 1px, 1px, 1px);height: 1px;margin: -1px;overflow: hidden;padding: 0;position: absolute;width: 1px;}#sk-container-id-1 div.sk-estimator {font-family: monospace;background-color: #f0f8ff;border: 1px dotted black;border-radius: 0.25em;box-sizing: border-box;margin-bottom: 0.5em;}#sk-container-id-1 div.sk-estimator:hover {background-color: #d4ebff;}#sk-container-id-1 div.sk-parallel-item::after {content: \"\";width: 100%;border-bottom: 1px solid gray;flex-grow: 1;}#sk-container-id-1 div.sk-label:hover label.sk-toggleable__label {background-color: #d4ebff;}#sk-container-id-1 div.sk-serial::before {content: \"\";position: absolute;border-left: 1px solid gray;box-sizing: border-box;top: 0;bottom: 0;left: 50%;z-index: 0;}#sk-container-id-1 div.sk-serial {display: flex;flex-direction: column;align-items: center;background-color: white;padding-right: 0.2em;padding-left: 0.2em;position: relative;}#sk-container-id-1 div.sk-item {position: relative;z-index: 1;}#sk-container-id-1 div.sk-parallel {display: flex;align-items: stretch;justify-content: center;background-color: white;position: relative;}#sk-container-id-1 div.sk-item::before, #sk-container-id-1 div.sk-parallel-item::before {content: \"\";position: absolute;border-left: 1px solid gray;box-sizing: border-box;top: 0;bottom: 0;left: 50%;z-index: -1;}#sk-container-id-1 div.sk-parallel-item {display: flex;flex-direction: column;z-index: 1;position: relative;background-color: white;}#sk-container-id-1 div.sk-parallel-item:first-child::after {align-self: flex-end;width: 50%;}#sk-container-id-1 div.sk-parallel-item:last-child::after {align-self: flex-start;width: 50%;}#sk-container-id-1 div.sk-parallel-item:only-child::after {width: 0;}#sk-container-id-1 div.sk-dashed-wrapped {border: 1px dashed gray;margin: 0 0.4em 0.5em 0.4em;box-sizing: border-box;padding-bottom: 0.4em;background-color: white;}#sk-container-id-1 div.sk-label label {font-family: monospace;font-weight: bold;display: inline-block;line-height: 1.2em;}#sk-container-id-1 div.sk-label-container {text-align: center;}#sk-container-id-1 div.sk-container {/* jupyter's `normalize.less` sets `[hidden] { display: none; }` but bootstrap.min.css set `[hidden] { display: none !important; }` so we also need the `!important` here to be able to override the default hidden behavior on the sphinx rendered scikit-learn.org. See: https://github.com/scikit-learn/scikit-learn/issues/21755 */display: inline-block !important;position: relative;}#sk-container-id-1 div.sk-text-repr-fallback {display: none;}</style><div id=\"sk-container-id-1\" class=\"sk-top-container\"><div class=\"sk-text-repr-fallback\"><pre>LogisticRegression()</pre><b>In a Jupyter environment, please rerun this cell to show the HTML representation or trust the notebook. <br />On GitHub, the HTML representation is unable to render, please try loading this page with nbviewer.org.</b></div><div class=\"sk-container\" hidden><div class=\"sk-item\"><div class=\"sk-estimator sk-toggleable\"><input class=\"sk-toggleable__control sk-hidden--visually\" id=\"sk-estimator-id-1\" type=\"checkbox\" checked><label for=\"sk-estimator-id-1\" class=\"sk-toggleable__label sk-toggleable__label-arrow\">LogisticRegression</label><div class=\"sk-toggleable__content\"><pre>LogisticRegression()</pre></div></div></div></div></div>"
            ]
          },
          "metadata": {},
          "execution_count": 20
        }
      ],
      "source": [
        "model.fit(X_train, Y_train)"
      ]
    },
    {
      "cell_type": "code",
      "execution_count": 21,
      "metadata": {
        "id": "3crJ0XHtQBwx"
      },
      "outputs": [],
      "source": [
        "X_train_prediction = model.predict(X_train)\n",
        "training_data_accuracy = accuracy_score(X_train_prediction, Y_train)"
      ]
    },
    {
      "cell_type": "code",
      "execution_count": 22,
      "metadata": {
        "colab": {
          "base_uri": "https://localhost:8080/"
        },
        "id": "5B2Oxbp5QBw2",
        "outputId": "f6ee2abe-a1cc-4117-93a2-4e46e7e0a060"
      },
      "outputs": [
        {
          "output_type": "stream",
          "name": "stdout",
          "text": [
            "Akurasi data training :  0.8494208494208494\n"
          ]
        }
      ],
      "source": [
        "print(\"Akurasi data training : \", training_data_accuracy)"
      ]
    },
    {
      "cell_type": "code",
      "execution_count": 23,
      "metadata": {
        "id": "WGlvtIebQBw3"
      },
      "outputs": [],
      "source": [
        "X_test_prediction = model.predict(X_test)\n",
        "testing_data_accuracy = accuracy_score(X_test_prediction, Y_test)"
      ]
    },
    {
      "cell_type": "code",
      "execution_count": 24,
      "metadata": {
        "colab": {
          "base_uri": "https://localhost:8080/"
        },
        "id": "ZFuijBNpQBw3",
        "outputId": "d7cb8108-3eba-4fa7-a2ec-45440cc8ea9b"
      },
      "outputs": [
        {
          "output_type": "stream",
          "name": "stdout",
          "text": [
            "Akurasi data testing :  0.8465991316931982\n"
          ]
        }
      ],
      "source": [
        "print(\"Akurasi data testing : \", testing_data_accuracy)"
      ]
    },
    {
      "cell_type": "markdown",
      "metadata": {
        "id": "1rCAHoUJQBw5"
      },
      "source": [
        "# EVALUATION"
      ]
    },
    {
      "cell_type": "code",
      "execution_count": 26,
      "metadata": {
        "colab": {
          "base_uri": "https://localhost:8080/"
        },
        "id": "AX6jUmXgQBw5",
        "outputId": "ec751e8f-ac05-434c-ad5f-cf481edc359a"
      },
      "outputs": [
        {
          "output_type": "stream",
          "name": "stdout",
          "text": [
            "[0]\n",
            "\n",
            "Orbit termasuk kedalam kelas APO*\n"
          ]
        },
        {
          "output_type": "stream",
          "name": "stderr",
          "text": [
            "/usr/local/lib/python3.10/dist-packages/sklearn/base.py:439: UserWarning: X does not have valid feature names, but LogisticRegression was fitted with feature names\n",
            "  warnings.warn(\n"
          ]
        }
      ],
      "source": [
        "input_data = (107806558,826853942,228254952,313829659,880106813,2155287722,1867,197,112,169,34507) # 0\n",
        "\n",
        "input_data_as_numpy_array = np.asarray(input_data)\n",
        "\n",
        "input_data_reshaped = input_data_as_numpy_array.reshape(1,-1)\n",
        "\n",
        "prediction = model.predict(input_data_reshaped)\n",
        "print(prediction)\n",
        "print()\n",
        "\n",
        "if prediction == 0:\n",
        "    print('Orbit termasuk kedalam kelas APO*')\n",
        "elif prediction == 1:\n",
        "    print('Orbit termasuk kedalam kelas ATE*')\n",
        "elif prediction == 2:\n",
        "    print('Orbit termasuk kedalam kelas AMO*')\n",
        "else:\n",
        "    print('Orbit termasuk kedalam kelas IEO*')"
      ]
    },
    {
      "cell_type": "markdown",
      "metadata": {
        "id": "3ExuFEuZQBw6"
      },
      "source": [
        "# DEPLOYMENT"
      ]
    },
    {
      "cell_type": "code",
      "execution_count": 27,
      "metadata": {
        "id": "JLpsfSH5QBw6"
      },
      "outputs": [],
      "source": [
        "import pickle"
      ]
    },
    {
      "cell_type": "code",
      "execution_count": 28,
      "metadata": {
        "id": "b6rsIKKzQBw7"
      },
      "outputs": [],
      "source": [
        "filename = 'orbit_model.sav'\n",
        "pickle.dump(model, open(filename, 'wb'))"
      ]
    }
  ],
  "metadata": {
    "colab": {
      "provenance": []
    },
    "kernelspec": {
      "display_name": "Python 3",
      "language": "python",
      "name": "python3"
    },
    "language_info": {
      "codemirror_mode": {
        "name": "ipython",
        "version": 3
      },
      "file_extension": ".py",
      "mimetype": "text/x-python",
      "name": "python",
      "nbconvert_exporter": "python",
      "pygments_lexer": "ipython3",
      "version": "3.10.9"
    },
    "orig_nbformat": 4
  },
  "nbformat": 4,
  "nbformat_minor": 0
}